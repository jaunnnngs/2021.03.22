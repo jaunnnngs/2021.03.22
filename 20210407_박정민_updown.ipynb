{
  "nbformat": 4,
  "nbformat_minor": 0,
  "metadata": {
    "colab": {
      "name": "Untitled2.ipynb",
      "provenance": []
    },
    "kernelspec": {
      "name": "python3",
      "display_name": "Python 3"
    },
    "language_info": {
      "name": "python"
    }
  },
  "cells": [
    {
      "cell_type": "code",
      "metadata": {
        "colab": {
          "base_uri": "https://localhost:8080/"
        },
        "id": "qyOEJ3eF6gFU",
        "outputId": "c3497487-8da0-40c3-f9ab-ffa7aa9e54a9"
      },
      "source": [
        "import random\n",
        "number=random.randint(1,999)\n",
        "while True:\n",
        "    a=int(input(\"숫자:\"))\n",
        "    if (number<a):\n",
        "        print(\"다운\")\n",
        "    elif (number>a):\n",
        "        print(\"업\")\n",
        "    else:\n",
        "        print(\"정답입니다.\")\n",
        "        break3\n",
        "            "
      ],
      "execution_count": 27,
      "outputs": [
        {
          "output_type": "stream",
          "text": [
            "숫자:800\n",
            "다운\n",
            "숫자:700\n",
            "다운\n",
            "숫자:500\n",
            "다운\n",
            "숫자:300\n",
            "업\n",
            "숫자:400\n",
            "업\n",
            "숫자:450\n",
            "업\n",
            "숫자:480\n",
            "업\n",
            "숫자:490\n",
            "업\n",
            "숫자:495\n",
            "정답입니다.\n"
          ],
          "name": "stdout"
        }
      ]
    }
  ]
}